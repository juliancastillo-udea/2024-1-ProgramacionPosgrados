{
  "nbformat": 4,
  "nbformat_minor": 0,
  "metadata": {
    "colab": {
      "provenance": [],
      "toc_visible": true
    },
    "kernelspec": {
      "name": "python3",
      "display_name": "Python 3"
    },
    "language_info": {
      "name": "python"
    }
  },
  "cells": [
    {
      "cell_type": "markdown",
      "source": [
        "<div align=\"center\">\n",
        "<table>\n",
        "    <thead>\n",
        "        <tr>\n",
        "            <td rowspan=\"3\">\n",
        "                <img alt=\"UdeA\" height=\"200px\" src=\"https://raw.githubusercontent.com/juliancastillo-udea/2024-1-ProgramacionPosgrados/main/images/Escudo-UdeA.svg\" hspace=\"10px\" vspace=\"0px\">\n",
        "            </td>\n",
        "            <td>\n",
        "                <h1><b>Programación y Algoritmia Para Posgrados</b></h1>\n",
        "            </td>\n",
        "            <td rowspan=\"3\">\n",
        "                <img alt=\"II\" height=\"200px\" src=\"https://upload.wikimedia.org/wikipedia/commons/thumb/b/b9/Ingenier%C3%ADa_Industrial_UdeA.png/1026px-Ingenier%C3%ADa_Industrial_UdeA.png\" hspace=\"0px\" vspace=\"0px\">\n",
        "            </td>\n",
        "        </tr>\n",
        "        <tr>\n",
        "            <td>\n",
        "                <h1><b>Clase 01 - Introducción a los Algoritmos</b></h1>\n",
        "            </td>\n",
        "        </tr>\n",
        "        <tr>\n",
        "            <td>\n",
        "                <img align=\"center\" alt=\"I&S\" height=\"135px\" src=\"https://raw.githubusercontent.com/juliancastillo-udea/2024-1-ProgramacionPosgrados/main/images/IS.png\" hspace=\"10px\" vspace=\"0px\">\n",
        "            </td>\n",
        "        </tr>\n",
        "    </thead>\n",
        "</table>\n",
        "\n",
        "</div>\n",
        "\n",
        "<hr size=10 noshade color=\"green\">\n",
        "<p>\n",
        "<img alt=\"CC\" height=\"70px\" src=\"https://raw.githubusercontent.com/juliancastillo-udea/2024-1-ProgramacionPosgrados/main/images/by.xlarge.png\" align=\"left\" hspace=\"0px\" vspace=\"0px\">\n",
        "<img alt=\"Attribution\" height=\"70px\" src=\"https://raw.githubusercontent.com/juliancastillo-udea/2024-1-ProgramacionPosgrados/main/images/nc.xlarge.png\" align=\"left\" hspace=\"0px\" vspace=\"0px\">\n",
        "<img alt=\"NC\" height=\"70px\" src=\"https://raw.githubusercontent.com/juliancastillo-udea/2024-1-ProgramacionPosgrados/main/images/sa.xlarge.png\" align=\"left\" hspace=\"0px\" vspace=\"0px\">\n",
        "<img alt=\"SA\" height=\"70px\" src=\"https://raw.githubusercontent.com/juliancastillo-udea/2024-1-ProgramacionPosgrados/main/images/cc-icons.png\" align=\"left\" hspace=\"0px\" vspace=\"0px\">\n",
        "</p>\n",
        "\n",
        "<div align=\"right\">\n",
        "<h2> <b> Por: Julián Andrés Castillo G. </b> </h2>\n",
        "<a href=\"mailto:jandres.castillo@udea.edu.co\"> ✉ Julian Andres Castillo Grisales </a>\n",
        "<h2> <b> Por: Yony Fernando Ceballos. </b> </h2>\n",
        "<a href=\"mailto:yony.ceballos@udea.edu.co\"> ✉ Yony Fernando Ceballos </a>\n",
        "</div>\n",
        "\n",
        "<br>\n",
        "\n",
        "**El presente curso hace parte del grupo de investigación [Ingeniería&Sociedad](https://www.udea.edu.co/wps/portal/udea/web/inicio/investigacion/grupos-investigacion/ingenieria-tecnologia/ingenieria-sociedad/integrantes/!ut/p/z1/jZDLbsIwEEW_hS_w2JMHWbqOE0wcxw6mUG9QVigSBBaI729UISRCS5ndSOee0VwSyJaEobv2--7Sn4buMO5fIdkZF0vKBOjS2QIcb_lKe28EMrL5AeaZYJRHoKGiMXAnrfGNsPmSkfBOHv4YDu_lXwDhtX5DwuMJKNrxA13VyNoEvU6nQJn6DLi0kEboDP-kU6ABNxpqExUfpeIVi2_AvaQmb0YgyeXCU0RB2ZNBoQSXmdhiqViU4tTwS83_PXo-rtdb6FWv9rNv4u7n-A!!/?1dmy&urile=wcm%3apath%3a%2FPortalUdeA%2FasPortalUdeA%2FasHomeUdeA%2FInvestigaci%2521c3%2521b3n%2FGrupos%2Bde%2Binvestigaci%2521c3%2521b3n%2FIngenier%2521c3%2521ada%2By%2Btecnolog%2521c3%2521ada%2FIngenier%2521c3%2521ada%2By%2Bsociedad) de la Ingeniería Industrial de la Universidad de Antioquia.**\n",
        "\n",
        "# **Programación y Algoritmia Para Posgrados**"
      ],
      "metadata": {
        "id": "GrZp46Tz-MNU"
      }
    },
    {
      "cell_type": "markdown",
      "source": [
        "# **Propósito del curso**\n",
        "Este curso de programación ha sido diseñado específicamente para estudiantes de posgrado que desean adquirir habilidades sólidas en programación, independientemente de su formación académica previa. Reconociendo que los estudiantes de maestría y doctorado necesitan habilidades de programación en sus investigaciones y proyectos, este curso brinda unas bases sólidas en algoritmia, considerando tanto a aquellos sin experiencia previa en programación como a aquellos con formación en ingeniería que desean reforzar y ampliar sus habilidades.\n",
        "\n",
        "\n",
        "\n",
        "\n",
        "\n",
        "\n"
      ],
      "metadata": {
        "id": "YNMlbQ-uJT-9"
      }
    },
    {
      "cell_type": "markdown",
      "source": [
        "# **Intencionalidad formativa**\n",
        "En los niveles de maestría y doctorado, la investigación se vuelve más profunda y especializada. La programación se ha convertido en una herramienta esencial en una variedad de disciplinas para analizar datos, simular sistemas, desarrollar modelos y automatizar tareas. La capacidad de programar permite a los estudiantes ampliar sus horizontes y abordar problemas complejos con mayor eficacia.\n",
        "Diversidad de Antecedentes: Dado que los estudiantes de posgrado provienen de diversas disciplinas académicas, algunos pueden carecer de experiencia en programación. Este curso está diseñado para nivelar el campo de juego, brindando a todos los estudiantes una base sólida en programación, sin importar su formación previa.\n",
        "Reforzamiento de Habilidades: Aunque algunos estudiantes de posgrado pueden tener formación en ingeniería, es común que esta formación se haya adquirido en los primeros semestres de la carrera. A medida que avanzan en sus estudios, es crucial reforzar y actualizar sus habilidades de programación para abordar problemas más avanzados y desafiantes."
      ],
      "metadata": {
        "id": "9l3rHJRwJpfS"
      }
    },
    {
      "cell_type": "markdown",
      "source": [
        "# **Aportes del curso a la formación integral y a la formación en investigación**\n",
        "La programación es una habilidad transversal que se aplica en una amplia gama de campos, desde ciencias sociales y humanidades hasta ciencias naturales e ingeniería. Este curso proporciona una base que se puede adaptar a las necesidades específicas de investigación de cada estudiante, independientemente de su disciplina.\n",
        "Preparación para el Futuro: En un mundo cada vez más digital y tecnológico, las habilidades de programación son altamente valoradas en el mercado laboral. Brindar a los estudiantes de posgrado la capacidad de programar no solo enriquece su experiencia académica, sino que también mejora su empleabilidad en una variedad de industrias.\n",
        "La programación es una habilidad transversal que se aplica en una amplia gama de campos, desde ciencias sociales y humanidades hasta ciencias naturales e ingeniería. Este curso proporciona una base que se puede adaptar a las necesidades específicas de investigación de cada estudiante, independientemente de su disciplina.\n",
        "Preparación para el Futuro: En un mundo cada vez más digital y tecnológico, las habilidades de programación son altamente valoradas en el mercado laboral. Brindar a los estudiantes de posgrado la capacidad de programar no solo enriquece su experiencia académica, sino que también mejora su empleabilidad en una variedad de industrias."
      ],
      "metadata": {
        "id": "_alTFebjJnSU"
      }
    },
    {
      "cell_type": "markdown",
      "source": [
        "# **Objetivo del curso**\n",
        "El objetivo principal del curso es Construir algoritmos y programas de computador de media complejidad para solucionar problemas en el área de investigación de cada estudiante en dos ambientes de programación, en Python y VBA con Excel."
      ],
      "metadata": {
        "id": "kkRNBWcoJlM6"
      }
    },
    {
      "cell_type": "markdown",
      "source": [
        "# **Ruta Formativa**\n",
        "\n",
        "## **Unidad 1 - Algoritmos y Programación**\n",
        "*   Introducción a los lenguajes de programación.\n",
        "*   Tipos de Datos\n",
        "*   Variables\n",
        "*   Operadores\n",
        ">*   Asignación\n",
        ">*   Aritméticos\n",
        ">*   Comparación\n",
        ">*   Lógicos\n",
        ">*   Membresía y pertenencia (Python)\n",
        "*   Vectores (Python)\n",
        "## **Unidad 2 - Estructuras de Control**\n",
        "*   Condicionales\n",
        ">*   Simples\n",
        ">*   Dobles\n",
        ">*   Anidadas\n",
        ">*   Suiches\n",
        "*   Repetitivas (Ciclos)\n",
        ">*   Para (For)\n",
        ">*   Mientras (While)\n",
        "## **Unidad 3 - Programación modular (Funciones)**\n",
        "*   Definición de Función\n",
        "*   Abstracción y reutilización\n",
        "*   Argumentos y Parámetros\n",
        "*   La instrucción Return (Python)\n",
        "## **Unidad 4 - Clases y Objetos**\n",
        "*   Definición de clase y objeto\n",
        "*   El método constructor\n",
        "*   El parámetro self (Python)\n",
        "## **Unidad 5 - Librerías complementarias de Python**\n",
        "*   Numpy\n",
        "*   Pandas\n",
        "*   Matplotlib y Seaborn"
      ],
      "metadata": {
        "id": "lbya9qVOJjPz"
      }
    },
    {
      "cell_type": "markdown",
      "source": [
        "# **Estrategias didácticas**\n",
        "## **Aprendizaje Basado en Problemas (ABP)**\n",
        "### **Medios y recursos didácticos**:\n",
        "El curso cuenta con una formación basada en proyectos integradores en donde cada estudiante aplicará el conocimiento obtenido a sus proyectos de investigación.\n",
        "### **Formas de interacción en los ambientes de aprendizaje y de acompañamiento del trabajo independiente del estudiante**:\n",
        "El trabajo colaborativo usando las herramientas Google Colab, Replit y Microsoft 365\n",
        "### **Estrategias de internacionalización del currículo y del currículo en casa, que se desarrollan para cumplir con las intencionalidades formativas del micro currículo**:\n",
        "La asignatura incluye bibliografía con las últimas tendencias internacionales en programación orientada a la ciencia y analítica de datos las cuales su mayoría están en idioma inglés.\n",
        "### **Estrategias para abordar o visibilizar el enfoque de género**:\n",
        "Se rechaza todo tipo de violencia basada en género y violencia sexual, y la discriminación por raza, cultura o presencia de alguna discapacidad. Los recursos didácticos están pensados para la inclusión de todas las personas.\n"
      ],
      "metadata": {
        "id": "cZq7b_KpJfmt"
      }
    },
    {
      "cell_type": "markdown",
      "source": [
        "# **Evaluación**\n",
        "\n",
        "| Momentos de evaluación | Porcentajes |\n",
        "|---|:-:|\n",
        "| Entregable Unidad 1 y 2 - Taller con ejercicios Semana 3 | 20% |\n",
        "| Entregable Unidad 3 - Taller con ejercicios Semana 7 | 20% |\n",
        "| Entregable Unidad 4 - Taller con ejercicios Semana 10 | 20% |\n",
        "| Entregable Unidad 5 - Taller con ejercicios Semana 13 | 20% |\n",
        "| Proyecto integrador Semana 16 | 20% |\n",
        "\n"
      ],
      "metadata": {
        "id": "NIH5T-qAJZwg"
      }
    },
    {
      "cell_type": "markdown",
      "source": [
        "# **Bibliografía**\n",
        "\n",
        "| Bibliografía | Palabras clave |\n",
        "|---|---|\n",
        "| Oviedo, Efraín (2004).   Lógica de Programación (1ra Ed.). Bogotá, Colombia: Ecoe Ediciones. | Programación, Lógica |\n",
        "| Albright, S. C. (2011).   VBA for Modelers: Developing Decision Support Systems (with Microsoft Office   Excel Printed Access Card). South-Western College Publishing. | VBA, Excel |\n",
        "| Sweigart, A. (2019).   Automate the boring stuff with Python: practical programming for total   beginners. No Starch Press | Python, Programming, Develpment |\n",
        "| Pilgrim, M., &   Willison, S. (2009). Dive Into Python 3 (Vol. 2). Apress | Python, Programming, Develpment |\n",
        "| Python Website. (2023).   Python 3.11.1 documentation. Retrieved june 03, 2023, from   https://docs.python.org/ | Python, Programming, Develpment |\n",
        "| Velarde De Barraza, Olinda Y Cols. Introducción A La Programación Orientada A Objetos Pearson Educación, México, 2006 ISBN: 970-26-0887-2 | Programación, Lógica |"
      ],
      "metadata": {
        "id": "TW9Iu1AAJY4B"
      }
    },
    {
      "cell_type": "markdown",
      "source": [
        "<hr size=10 noshade color=\"green\">"
      ],
      "metadata": {
        "id": "gzH8rf21lYNd"
      }
    },
    {
      "cell_type": "markdown",
      "metadata": {
        "id": "5fCEDCU_qrC0"
      },
      "source": [
        "# **¿Qué es Colab?**\n",
        "\n",
        "Colab, o \"Colaboratory\", te permite escribir y ejecutar código de Python en tu navegador, con\n",
        "- Sin configuración requerida\n",
        "- Acceso sin costo a GPU\n",
        "- Facilidad para compartir\n",
        "\n",
        "Seas **estudiante**, **científico de datos** o **investigador de IA**, Colab facilita tu trabajo."
      ]
    },
    {
      "cell_type": "markdown",
      "metadata": {
        "id": "GJBs_flRovLc"
      },
      "source": [
        "## **Introducción**\n",
        "\n",
        "El documento que estás leyendo no es una página web estática, sino un entorno interactivo denominado <strong>notebook de Colab</strong>, que permite escribir y ejecutar código.\n",
        "\n",
        "Por ejemplo, esta es una <strong>celda de código</strong> con una secuencia de comandos Python corta que calcula un valor, lo almacena en una variable y devuelve el resultado:"
      ]
    },
    {
      "cell_type": "code",
      "execution_count": null,
      "metadata": {
        "id": "gJr_9dXGpJ05"
      },
      "outputs": [],
      "source": [
        "seconds_in_a_day = 24 * 60 * 60\n",
        "seconds_in_a_day"
      ]
    },
    {
      "cell_type": "markdown",
      "metadata": {
        "id": "2fhs6GZ4qFMx"
      },
      "source": [
        "A fin de ejecutar el código en la celda anterior, haz clic en él para seleccionarlo y luego presiona el botón de reproducción ubicado a la izquierda del código o usa la combinación de teclas \"Command/Ctrl + Intro\". Para editar el código, solo haz clic en la celda y comienza a editar.\n",
        "\n",
        "Las variables que defines en una celda pueden usarse en otras:"
      ]
    },
    {
      "cell_type": "code",
      "execution_count": null,
      "metadata": {
        "id": "-gE-Ez1qtyIA"
      },
      "outputs": [],
      "source": [
        "seconds_in_a_week = 7 * seconds_in_a_day\n",
        "seconds_in_a_week"
      ]
    },
    {
      "cell_type": "markdown",
      "metadata": {
        "id": "lSrWNr3MuFUS"
      },
      "source": [
        "Los notebooks de Colab te permiten combinar <strong>código ejecutable</strong> y <strong>texto enriquecido</strong> en un único documento, junto con <strong>imágenes</strong>, <strong>HTML</strong>, <strong>LaTeX</strong> y mucho más. Los notebooks que crees en Colab se almacenan en tu cuenta de Google Drive. Puedes compartir fácilmente los notebooks de Colab con amigos o compañeros de trabajo para que realicen comentarios o los editen. Si quieres obtener más información, consulta la <a href=\"/notebooks/basic_features_overview.ipynb\">Descripción general de Colab</a>. Para crear un nuevo notebook de Colab, ve al menú Archivo que aparece más arriba o usa este vínculo: <a href=\"http://colab.research.google.com#create=true\">crear un nuevo notebook de Colab</a>.\n",
        "\n",
        "Los notebooks de Colab son notebooks de Jupyter que aloja Colab. Para obtener más información sobre el proyecto Jupyter, visita <a href=\"https://www.jupyter.org\">jupyter.org</a>."
      ]
    },
    {
      "cell_type": "markdown",
      "metadata": {
        "id": "UdRyKR44dcNI"
      },
      "source": [
        "## **Ciencia de datos**\n",
        "\n",
        "Con Colab, puedes aprovechar por completo las bibliotecas más populares de Python para analizar y visualizar datos. La celda de código que se incluye a continuación usa <strong>NumPy</strong> para generar algunos datos aleatorios y <strong>matplotlib</strong> para visualizarlos. Para editar el código, haz clic en la celda y comienza a editar."
      ]
    },
    {
      "cell_type": "code",
      "execution_count": null,
      "metadata": {
        "id": "C4HZx7Gndbrh"
      },
      "outputs": [],
      "source": [
        "import numpy as np\n",
        "from matplotlib import pyplot as plt\n",
        "\n",
        "ys = 200 + np.random.randn(100)\n",
        "x = [x for x in range(len(ys))]\n",
        "\n",
        "plt.plot(x, ys, '-')\n",
        "plt.fill_between(x, ys, 195, where=(ys > 195), facecolor='g', alpha=0.6)\n",
        "\n",
        "plt.title(\"Sample Visualization\")\n",
        "plt.show()"
      ]
    },
    {
      "cell_type": "markdown",
      "metadata": {
        "id": "4_kCnsPUqS6o"
      },
      "source": [
        "Puedes importar datos propios a notebooks de Colab desde tu cuenta de Google Drive &#40;incluso desde hojas de cálculos&#41;, GitHub y muchas otras fuentes. Para obtener más información acerca de la importación de datos y cómo puede usarse Colab para fines relacionados con la ciencia de datos, consulta los vínculos de <a href=\"#working-with-data\">Cómo trabajar con datos</a>."
      ]
    },
    {
      "cell_type": "markdown",
      "metadata": {
        "id": "OwuxHmxllTwN"
      },
      "source": [
        "## **Aprendizaje automático**\n",
        "\n",
        "Colab te permite importar un conjunto de datos de imágenes, entrenar un clasificador de imágenes en él y evaluar el modelo con solo <a href=\"https://colab.research.google.com/github/tensorflow/docs/blob/master/site/en/tutorials/quickstart/beginner.ipynb\">unas pocas líneas de código</a>. Los notebooks de Colab ejecutan código en los servidores alojados en la nube de Google, lo que significa que puedes aprovechar al máximo el hardware de Google, incluidas las <a href=\"#using-accelerated-hardware\">GPU y TPU</a>, independientemente de la potencia de tu máquina. Lo único que necesitas es un navegador."
      ]
    },
    {
      "cell_type": "markdown",
      "metadata": {
        "id": "ufxBm1yRnruN"
      },
      "source": [
        "Entre los usos que se la da a Colab en la comunidad de aprendizaje automático, se encuentran los siguientes:\n",
        "- Introducción a TensorFlow\n",
        "- Desarrollo y entrenamiento de redes neuronales\n",
        "- Experimentación con TPU\n",
        "- Diseminación de investigación de IA\n",
        "- Creación de instructivos\n",
        "\n",
        "Para ver notebooks de Colab de ejemplo que muestran los usos del aprendizaje automático, consulta los <a href=\"#machine-learning-examples\">ejemplos</a> que se incluyen a continuación."
      ]
    },
    {
      "cell_type": "markdown",
      "metadata": {
        "id": "-Rh3-Vt9Nev9"
      },
      "source": [
        "## **Más recursos de Google**\n",
        "\n",
        "### Cómo trabajar con notebooks en Colab\n",
        "\n",
        "- [Descripción general de Colaboratory](/notebooks/basic_features_overview.ipynb)\n",
        "- [Guía para usar Markdown](/notebooks/markdown_guide.ipynb)\n",
        "- [Cómo importar bibliotecas y luego instalar dependencias](/notebooks/snippets/importing_libraries.ipynb)\n",
        "- [Cómo guardar y cargar notebooks en GitHub](https://colab.research.google.com/github/googlecolab/colabtools/blob/main/notebooks/colab-github-demo.ipynb)\n",
        "- [Formularios interactivos](/notebooks/forms.ipynb)\n",
        "- [Widgets interactivos](/notebooks/widgets.ipynb)\n",
        "\n",
        "### Cómo trabajar con datos\n",
        "\n",
        "- [Cómo cargar datos: Drive, Hojas de cálculo y Google Cloud Storage](/notebooks/io.ipynb)\n",
        "- [Gráficos: visualización de datos](/notebooks/charts.ipynb)\n",
        "- [Cómo comenzar a usar BigQuery](/notebooks/bigquery.ipynb)\n",
        "\n",
        "### Curso intensivo de aprendizaje automático\n",
        "\n",
        "Estos son algunos de los notebooks del curso de aprendizaje automático en línea de Google. Para obtener más información, consulta el <a href=\"https://developers.google.com/machine-learning/crash-course/\">sitio web del curso completo</a>.\n",
        "- [Introducción a Pandas DataFrame](https://colab.research.google.com/github/google/eng-edu/blob/main/ml/cc/exercises/pandas_dataframe_ultraquick_tutorial.ipynb)\n",
        "- [Regresión lineal con tf.keras usando datos sintéticos](https://colab.research.google.com/github/google/eng-edu/blob/main/ml/cc/exercises/linear_regression_with_synthetic_data.ipynb)\n",
        "\n",
        "### Uso de aceleración de hardware\n",
        "\n",
        "- [TensorFlow con GPU](/notebooks/gpu.ipynb)\n",
        "- [TensorFlow con TPU](/notebooks/tpu.ipynb)"
      ]
    },
    {
      "cell_type": "markdown",
      "metadata": {
        "id": "P-H6Lw1vyNNd"
      },
      "source": [
        "## Ejemplos destacados\n",
        "\n",
        "- <a href=\"https://colab.research.google.com/github/NVIDIA/NeMo/blob/stable/tutorials/VoiceSwapSample.ipynb\">NeMo Voice Swap</a>: Utiliza el kit de herramientas de NeMo para IA conversacional de Nvidia si quieres cambiar una voz en un fragmento de audio por otra generada por computadora.\n",
        "\n",
        "- <a href=\"https://tensorflow.org/hub/tutorials/tf2_image_retraining\">Reentrenamiento de un clasificador de imágenes</a>: compila un modelo de Keras sobre un clasificador de imágenes previamente entrenado para distinguir flores.\n",
        "- <a href=\"https://tensorflow.org/hub/tutorials/tf2_text_classification\">Clasificación de texto</a>: clasifica opiniones sobre películas de IMDB como <em>positivas</em> o <em>negativas</em>.\n",
        "- <a href=\"https://tensorflow.org/hub/tutorials/tf2_arbitrary_image_stylization\">Transferencia de estilos</a>: usa el aprendizaje profundo para transferir el estilo de una imagen a otra.\n",
        "- <a href=\"https://tensorflow.org/hub/tutorials/retrieval_with_tf_hub_universal_encoder_qa\">Codificador universal de oraciones en varios idiomas para preguntas y respuestas</a>: usa un modelo de aprendizaje automático para responder preguntas del conjunto de datos SQuAD.\n",
        "- <a href=\"https://tensorflow.org/hub/tutorials/tweening_conv3d\">Interpolación de videos</a>: predice lo que sucedió en un video entre el primer y el último fotograma.\n"
      ]
    },
    {
      "cell_type": "markdown",
      "source": [
        "# **Unidad 1 - Algoritmos y Programación**\n"
      ],
      "metadata": {
        "id": "pAb3WkTOriHd"
      }
    },
    {
      "cell_type": "markdown",
      "source": [
        "## **Algoritmo**\n",
        "\n",
        "### ¿De dónde proviene la palabra algoritmo?\n",
        "\n",
        "<img alt=\"AlJuarismi\" height=\"200px\" src=\"https://raw.githubusercontent.com/juliancastillo-udea/2024-1-ProgramacionPosgrados/main/images/Al_Juarismi.png\" hspace=\"10px\" vspace=\"0px\" align=\"left\">\n",
        "\n",
        "##### La palabra Algoritmo es de origen árabe y proviene del matemático y astrónomo Abu Abdullah Muhammad Bin Musa, que vivió aproximadamente entre 780 y 850.\n",
        "\n",
        "##### Debemos a su nombre y al de su obra principal, \"Hisāb al-ŷabr wa'l muqābala\", (ساب الجبر و المقابلة) nuestras palabras álgebra, guarismo y algoritmo. De hecho, es considerado como el padre del álgebra y como el introductor de nuestro sistema de numeración denominado arábigo.\n"
      ],
      "metadata": {
        "id": "20Rx067IAVyr"
      }
    },
    {
      "cell_type": "markdown",
      "source": [
        "### ¿Qué es un Algoritmo?\n",
        "Un algoritmo es un conjunto prescrito de instrucciones o reglas bien definidas, ordenadas y finitas que permite realizar una actividad mediante pasos sucesivos que no generen dudas a quien deba realizar dicha actividad.\n",
        "Dados un estado inicial y una entrada, siguiendo los pasos sucesivos se llega a un estado final y se obtiene una solución.\n",
        "\n",
        "<img alt=\"AlJuarismi\" height=\"300px\" src=\"https://raw.githubusercontent.com/juliancastillo-udea/2024-1-ProgramacionPosgrados/main/images/Algoritmo_1.png\" hspace=\"10px\" vspace=\"0px\" align=\"left\">\n",
        "\n",
        "\n"
      ],
      "metadata": {
        "id": "h_XwqLWYFxqs"
      }
    },
    {
      "cell_type": "markdown",
      "source": [
        "## **Introducción a los lenguajes de programación**"
      ],
      "metadata": {
        "id": "WC6bE3sorrD7"
      }
    },
    {
      "cell_type": "markdown",
      "source": [
        "**Definicion 1:** Un lenguaje de programación es una estructura que incluye símbolos y normativas para la creación de programas. Cada lenguaje de programación se caracteriza por tener una sintaxis, que son las reglas que lo rigen, y una semántica, que es el significado de los símbolos y términos empleados. Los lenguajes de programación facilitan una comunicación estructurada y exacta con las computadoras.\n",
        "\n",
        "**Definicion 2:** Es un conjunto de símbolos, caracteres y reglas (programas) que permite a las personas comunicarse con la computadora.\n",
        "Los lenguajes de programación tienen un conjunto de instrucciones que nos permiten realizar operaciones de entrada/salida, cálculo, manipulación de textos, lógica/comparación y  almacenamiento/recuperación.\n"
      ],
      "metadata": {
        "id": "Yf2E51_hrrue"
      }
    },
    {
      "cell_type": "markdown",
      "metadata": {
        "id": "TIfeZMV0YWNS"
      },
      "source": [
        "## **Qué es un lenguaje de programación?**\n",
        "Un lenguaje de programación es un lenguaje formal (o artificial, es decir, un lenguaje con reglas gramaticales bien definidas) que le proporciona a una persona, en este caso el programador, la capacidad de escribir (o programar) una serie de instrucciones o secuencias de órdenes en forma de algoritmos, con el fin de controlar el comportamiento físico o lógico de una computadora, de manera que se puedan obtener diversas clases de datos o ejecutar determinadas tareas. A todo este conjunto de órdenes escritas mediante un lenguaje de programación se le denomina programa.\n",
        "\n",
        "Tomado de [Wikipedia](https://es.wikipedia.org/wiki/Lenguaje_de_programaci%C3%B3n)"
      ]
    },
    {
      "cell_type": "markdown",
      "metadata": {
        "id": "afHbIM0gYkib"
      },
      "source": [
        "## **Tipos de Lenguajes de Programación**\n",
        "\n",
        "Los lenguajes de programación pueden ser clasificados de acuerdo a\n",
        "como son usados por la máquina o sistema operativo:\n",
        "\n",
        "* Interpretados: las instrucciones son traducidas una a\n",
        "una por una aplicación (intérprete). Ejemplos: Python, Perl, Bash.\n",
        "* Compilados: las instrucciones son traducidas en grupo\n",
        "por una aplicación (compilador). Ejemplos: Fortran, C/C++.\n",
        "* Intermedios: en parte compilados, en parte\n",
        "interpretados. Ejemplos: Java, Scala.\n",
        "<div align=\"center\">\n",
        "<img alt=\"TiposLenguajeCompiladoInterpretadoIntermedio\" src=\"https://raw.githubusercontent.com/juliancastillo-udea/2024-1-ProgramacionPosgrados/main/images/TiposLenguajes.png\" align=\"center\" hspace=\"0px\" vspace=\"0px\">\n",
        "</div><br>"
      ]
    },
    {
      "cell_type": "markdown",
      "source": [
        "Los lenguajes de programación también pueden ser clasificados de\n",
        "acuerdo a su nivel de abstracción:\n",
        "* Alto nivel: la información compleja es representada\n",
        "con objetos simples. Ejemplos: Python, C++, C#, Java.\n",
        "* Bajo nivel: la información compleja debe\n",
        "representarse literalmente. Ejemplos: Assembly y Machine.\n",
        "<div align=\"center\">\n",
        "<img alt=\"TiposLenguajeAltoBajo\" src=\"https://raw.githubusercontent.com/juliancastillo-udea/2024-1-ProgramacionPosgrados/main/images/AlgoBajoNivel.png\" align=\"center\" hspace=\"0px\" vspace=\"0px\">\n",
        "</div><br>"
      ],
      "metadata": {
        "id": "qFML66gpKcGZ"
      }
    },
    {
      "cell_type": "markdown",
      "source": [
        "## **Finalidad de los algoritmos**\n",
        "\n",
        "### Solución de problemas\n",
        "\n",
        "Los algoritmos se utilizan todos los días en cada una de nuestras actividades, cada problema de la vida diaria se puede representar de manera algorítmica.\n",
        "\n",
        "### Características de un buen algoritmo\n",
        "\n",
        "*   Debe tener un punto particular de inicio.\n",
        "*   Debe ser definido, no debe permitir dobles interpretaciones.\n",
        "*   Debe ser general, es decir, soportar la mayoría de las variantes que se puedan presentar en la definición del problema.\n",
        "*   Debe ser finito en tamaño y tiempo de ejecución.\n",
        "\n",
        "Nota: se puede ser tan específico o tan simple como se desee.\n",
        "\n",
        "*   Precisión: Los pasos a seguir en el algoritmo deben ser precisados claramente.\n",
        "*   Determinismo: El algoritmo, dado un conjunto de datos idénticos de entrada siempre debe arrojar los mismos resultados.\n",
        "*   Finitud: El algoritmo, independiente de la complejidad del mismo, siempre debe ser de longitud finita.\n"
      ],
      "metadata": {
        "id": "m5QsxwhAOXVl"
      }
    },
    {
      "cell_type": "markdown",
      "source": [
        "## **El teorema del programa estructurado**\n",
        "\n",
        "El teorema del programa estructurado, propuesto por Böhm-Jacopini, demuestra que todo programa puede escribirse utilizando únicamente las tres instrucciones de control, las cuales son:\n",
        "Secuencia.\n",
        "Instrucción condicional.\n",
        "Iteración (bucle o ciclo de instrucciones) con condición al principio.\n"
      ],
      "metadata": {
        "id": "E32A04P-O7In"
      }
    },
    {
      "cell_type": "markdown",
      "source": [
        "## **Pensamiento Algorítmico**\n",
        "\n",
        "De acuerdo a lo detallado previamente, un algoritmo es un método para resolver un problema.\n",
        "\n",
        "<div align=\"center\">\n",
        "<img alt=\"TiposLenguajeAltoBajo\" src=\"https://raw.githubusercontent.com/juliancastillo-udea/2024-1-ProgramacionPosgrados/main/images/PensamientoAlgoritmico.png\" align=\"center\" hspace=\"0px\" vspace=\"0px\">\n",
        "</div><br>\n",
        "\n",
        "### Tipos de Algoritmos\n",
        "\n",
        "#### Cualitativos\n",
        ">No involucran cálculos numéricos.\n",
        ">*   Los pasos que realiza un estudiante para preparar un examen.\n",
        ">*   Los pasos que se deben seguir para preparar una receta culinaria.\n",
        "\n",
        "#### Cuantitaivos\n",
        ">Involucran cálculos numéricos.\n",
        ">*   Hallar el valor de $y$, dado el valor de $x$, donde $y=2x³+3x²-x+1$.\n",
        ">*   Recibir los datos y combinarlos mediante operaciones matemáticas.\n",
        "\n",
        "### Secuencia sugerida para solucionar un problema usando algoritmos\n",
        "\n",
        "1.   Análisis del problema\n",
        ">*   ¿Qué se debe hacer?\n",
        ">>*   ¿Qué información dispongo (Entradas)?\n",
        ">>>*   Tipo y cantidad de información\n",
        ">>*   ¿Qué resultados e información se debe obtener (Salidas)?\n",
        ">>>*   Tipo y cantidad de resultados\n",
        ">>*   Método(s) de solución → Salidas a partir de las entradas\n",
        ">>>*   Consulta con expertos en el área del conocimiento (Ciencias sociales, de la salud, economía, biología, etc.)\n",
        ">>*   ¿Necesidades especiales del usuario?\n",
        ">>>*   Portabilidad\n",
        ">>>*   Limitaciones físicas (visuales, auditivas, etc.)\n",
        ">>>*   Características de forma (idioma, diseño, etc.)\n",
        "\n",
        "2.   Diseño del algoritmo\n",
        ">*   ¿Cómo se debe hacer?\n",
        ">>*   Definición de los pasos a seguir para solucionar el problema.\n",
        ">>>*   Descripción inicial del procedimiento en pocos pasos.\n",
        ">>>*   Refinamiento del procedimiento en pocos pasos, aclarando la estructura de los elementos y detallando estructuras complejas, este procedimiento se puede realizar varias veces hasta tener varios niveles de refinamiento hasta llegar a un algormitmo bien definido.\n",
        ">>>*   Se recomienda un diseño modular o descendente para solucionar un problema complejo y se puede dividir en problemas de menor complejidad (subproblemas), los cuales a su vez se pueden también dividir. Cada subproblema se resuelve mediante un algoritmo (subalgoritmo) y el problema principal se resuelve mediante la combinación de todas las soluciones (algoritmo principal).\n",
        "\n",
        "3.   Verificación\n",
        ">*   Prueba de escritorio\n",
        ">>*   Se suele llamar prueba de escritorio.\n",
        ">>*   Se debe realizar una ejecución manual del algoritmo, para verificar que cumple su objetivo. Se utilizan datos típicos del problema, así como datos atípicos o extremos, para verificar posibles errores.\n",
        ">>*   Esta etapa es importante antes de pasar a la etapa de codificación, es decir, a la traducción a un lenguaje de programación determinado.\n",
        "\n",
        "4.   Codificación\n",
        ">*   Creación de un programa\n",
        ">>*   Paso del algoritmo a un programa informático.\n",
        ">>*   Se debe seleccionar un lenguaje de programación.\n",
        ">>*   Debido a que el algoritmo es independiente de los lenguajes de programación que se usen, es posible implementarlo fácilmente en cualquier lenguaje.\n",
        "\n",
        "5.   Ejecución y validación\n",
        ">*   Depuración del código\n",
        ">>*   Ejecución en un computador.\n",
        ">>*   Uso de amplia variedad de datos de entrada: valores normales, extremos y especiales, para comprobar que el programa funciona correctamente, y que puede detectar errores en la información que se ingresa.\n",
        ">>*   Depuración (debugging): Proceso de encontrar y corregir errores de ejecución de un programa.\n",
        "\n",
        "6.   Documentación\n",
        ">*   Interna / externa + mantenimiento\n",
        ">>*   Documentación interna: Se incluye dentro del código del programa, mediante comentarios (texto no ejecutable) que ayudan a su comprensión. Los comentarios ayudan a identificar unidades de variables, identificar secciones del programa, etc.\n",
        ">>*   Documentación externa: Manuales técnicos, manuales de usuario, anexos (código, diagramas de flujo, etc.)\n",
        ">>*   Mantenimiento: Actualizaciones y modificaciones al código original. Grandes (versión 1.0 → 2.0), menores (versión 1.0 → 1.1).\n",
        "\n"
      ],
      "metadata": {
        "id": "3kUbR442kbBK"
      }
    },
    {
      "cell_type": "markdown",
      "source": [
        "<h1>«Si su algoritmo nunca termina tratando de resolver el problema para el que fue diseñado entonces es inútil».\n",
        "\n",
        "Anónimo\n"
      ],
      "metadata": {
        "id": "vInhzXwuPCaY"
      }
    },
    {
      "cell_type": "markdown",
      "metadata": {
        "id": "RniT4egCqBP8"
      },
      "source": [
        "# **Lenguaje de programación Python**\n"
      ]
    },
    {
      "cell_type": "markdown",
      "metadata": {
        "id": "Ox7uxWQUp2MP"
      },
      "source": [
        "## **Introducción**\n",
        "\n",
        "El documento que estás leyendo no es una página web estática, sino un entorno interactivo denominado **notebook de Colab**, que permite escribir y ejecutar código.\n",
        "\n",
        "Por ejemplo, esta es una **celda de código** con una secuencia de comandos Python corta que calcula un valor, lo almacena en una variable y devuelve el resultado:"
      ]
    },
    {
      "cell_type": "code",
      "execution_count": null,
      "metadata": {
        "id": "6hB5cS-Qr03z"
      },
      "outputs": [],
      "source": [
        "# Clic en el botón (►) play para ejecutar\n",
        "a=22\n",
        "b=11\n",
        "c=a+b\n",
        "print(a, \"+\", b,\"El resultado es:\",c)"
      ]
    },
    {
      "cell_type": "markdown",
      "metadata": {
        "id": "VO6T8ZY5nEcG"
      },
      "source": [
        "<p>Python es un lenguaje de programación interpretado cuya filosofía hace hincapié en la legibilidad de su código.​ Se trata de un lenguaje de programación multiparadigma, ya que soporta orientación a objetos, programación imperativa y, en menor medida, programación funcional. Es un lenguaje interpretado, dinámico y multiplataforma.\n",
        "Es administrado por Python Software Foundation. Posee una licencia de código abierto, denominada Python Software Foundation License.</p>\n",
        "<div align=\"center\">\n",
        "<img alt=\"PythonLogo\" height=\"200px\" src=\"https://upload.wikimedia.org/wikipedia/commons/c/c3/Python-logo-notext.svg\" align=\"center\" hspace=\"0px\" vspace=\"0px\">\n",
        "</div>​\n",
        "<p>Python fue creado a finales de los ochenta​ por Guido van Rossum en el Centro para las Matemáticas y la Informática (CWI, Centrum Wiskunde & Informatica), en los Países Bajos, como un sucesor del lenguaje de programación ABC, capaz de manejar excepciones e interactuar con el sistema operativo Amoeba.\n",
        "El nombre del lenguaje proviene de la afición de su creador por los humoristas británicos Monty Python.\n",
        "Van Rossum es el principal autor de Python, y su continuo rol central en decidir la dirección de Python es reconocido, refiriéndose a él como Benevolente Dictador Vitalicio (en inglés: Benevolent Dictator for Life, BDFL); sin embargo el 12 de julio de 2018 declinó de dicha situación de honor sin dejar un sucesor o sucesora y con una declaración altisonante: Entonces, ¿qué van a hacer todos ustedes? ¿Crear una democracia? ¿Anarquía? ¿Una dictadura? ¿Una federación? Guido van Rossum. </p>\n",
        "\n",
        "Tomado de [Wikipedia](https://es.wikipedia.org/wiki/Python)"
      ]
    },
    {
      "cell_type": "markdown",
      "source": [],
      "metadata": {
        "id": "QcYldXnTQZ8G"
      }
    },
    {
      "cell_type": "markdown",
      "metadata": {
        "id": "JJmU99a0chgr"
      },
      "source": [
        "## **Qué es Python**\n",
        "\n",
        "### Python es:\n",
        "\n",
        "* Lenguaje de Alto nivel.\n",
        "* Lenguaje interpretado (scripts).\n",
        "* Software Libre (GPL).\n",
        "* Multiplataforma (Sistema Operativo y Online).\n",
        "* Programación orientada a objetos.\n",
        "\n",
        "**Puntos fuertes**\n",
        "\n",
        "Analítica, Ciencia de Datos, Gráficas, Machine learning, Instrumental, Software cientifico, Comunidad.\n",
        "\n",
        "**Puntos débiles**\n",
        "\n",
        "Programación del alto performance (que se puede solventar con el uso de Wrappers o funciones vectorizadas)."
      ]
    },
    {
      "cell_type": "markdown",
      "metadata": {
        "id": "cJ6edMRLkVq7"
      },
      "source": [
        "## <strong>De donde descargo Python</strong>\n",
        "Para utilizar Python en nuestro desarrollo podemos hacer tres cosas.\n",
        "\n",
        "\n",
        "Instalar Python en nuestro computador (Windows, Mac, Linux u otro), luego instalar un entorno de desarrollo integrado o entorno de desarrollo interactivo, en inglés Integrated Development Environment (IDE), que permita desarrollo con el lenguaje de programación Python, tales como (solo se muestran opciones gratuitas e IDE, no se muestran editores de texto):\n",
        "\n",
        "<strong>https://www.python.org/</strong>: es la página oficial de descarga de Python, este trae la opción de poder descargar el interprete más reciente y otros compiladores anteriores.<br>\n",
        "Página Web [Python](https://www.python.org/)<br>\n",
        "<div align=\"center\">\n",
        "<img alt=\"PyDev\" height=\"100px\" src=\"https://www.python.org/static/img/python-logo.png\" align=\"center\" hspace=\"0px\" vspace=\"0px\">\n",
        "</div><br>\n",
        "\n",
        "<strong>Vistual Studio Code</strong>: es un editor de código fuente, desarrollado por Microsoft para Windows, Linux y macOS. Incluye soporte para la depuración, control integrado de Git, resaltado de sintaxis, finalización inteligente de código, fragmentos y refactorización de código. También es personalizable, por lo que los usuarios pueden cambiar el tema del editor, los atajos de teclado y las preferencias. Es gratuito y de código abierto,  aunque la descarga oficial está bajo software privativo e incluye características personalizadas por Microsoft.<br>\n",
        "Página Web [VS Code](ttps://code.visualstudio.com/)<br>\n",
        "<div align=\"center\">\n",
        "<img alt=\"VS Code\" height=\"100px\" src=\"https://code.visualstudio.com/assets/favicon.ico\" align=\"center\" hspace=\"0px\" vspace=\"0px\">\n",
        "</div><br>\n",
        "<strong>Atom/Atom-IDE</strong>: es un editor de código fuente, de código abierto para macOS, Linux, y Windows, con soporte para múltiples plug-in escritos en Node.js y control de versiones Git integrado, desarrollado por GitHub. Atom es una aplicación de escritorio construida utilizando tecnologías web.\n",
        "\n",
        "Página Web [Atom](https://atom.io/)<br>\n",
        "\n",
        "<br>\n",
        "<div align=\"center\">\n",
        "<img alt=\"Atom\" height=\"100px\" src=\"https://upload.wikimedia.org/wikipedia/commons/e/eb/Atom_icon.svg\" align=\"center\" hspace=\"0px\" vspace=\"0px\">\n",
        "</div><br>\n",
        "<strong>IDLE</strong>: (abreviatura de Integrated Development and Learning Environment, en español: «Entorno integrado de desarrollo y aprendizaje») es un entorno de desarrollo integrado para Python, que se incluye con la implementación predeterminada del lenguaje desde la versión 1.5.2. está empaquetado como una parte opcional del paquete de Python con muchas distribuciones de Linux. IDLE está destinado a ser un entorno de desarrollo integrado simple y enfocado para su uso por parte de usuarios principiantes, especialmente en un entorno educativo. Con ese fin, es multiplataforma y evita la sobrecarga de funcionalidades.<br>\n",
        "Página Web [IDLE](https://docs.python.org/3/library/idle.html)<br>\n",
        "\n",
        "Página Web [IDLE Python](https://docs.python.org/3/library/idle.html)<br>\n",
        "<div align=\"center\">\n",
        "<img alt=\"VS Code\" height=\"100px\" src=\"https://www.python.org/static/img/python-logo.png\" align=\"center\" hspace=\"0px\" vspace=\"0px\">\n",
        "</div><br>\n",
        "<strong>Spyder</strong>: es un entorno de desarrollo integrado (IDE) multiplataforma de código abierto para programación científica en el lenguaje Python. Spyder se integra con varios paquetes destacados en la pila científica de Python, incluidos NumPy, SciPy, Matplotlib, pandas, IPython, SymPy y Cython, así como otro software de código abierto. Se publica bajo la licencia MIT.<br>\n",
        "Página Web [Spyder](https://github.com/spyder-ide/spyder)<br>\n",
        ">![Spyder Logo](https://upload.wikimedia.org/wikipedia/commons/7/7e/Spyder_logo.svg)\n",
        "\n",
        "Página Web [Spyder](https://www.spyder-ide.org/)<br>\n",
        "<div align=\"center\">\n",
        "<img alt=\"Spyder\" height=\"100px\" src=\"https://upload.wikimedia.org/wikipedia/commons/7/7e/Spyder_logo.svg\" align=\"center\" hspace=\"0px\" vspace=\"0px\">\n",
        "</div><br>\n",
        "<strong>Thonny</strong>: es un entorno de desarrollo integrado para Python que está diseñado para principiantes. Admite diferentes formas de recorrer el código, evaluación de expresiones paso a paso, visualización detallada de la lista de llamadas y un modo para explicar los conceptos de referencias y pilas.<br>\n",
        "\n",
        "Página Web [Thonny](https://thonny.org)<br>\n",
        "<div align=\"center\">\n",
        "<img alt=\"Thonny\" height=\"100px\" src=\"https://upload.wikimedia.org/wikipedia/commons/e/e2/Thonny_logo.png\" align=\"center\" hspace=\"0px\" vspace=\"0px\">\n",
        "</div><br>\n",
        "\n",
        "## <strong>Gestor de paquetes</strong>\n",
        "\n",
        "Instalar un gestor de paquetes, el gestor más común y utilizado en el entorno de desarrollo de Python es Anaconda.\n",
        "\n",
        "<strong>Anaconda</strong>: es una distribución libre y abierta de los lenguajes Python y R, utilizada en ciencia de datos, y aprendizaje automático (machine learning). Esto incluye procesamiento de grandes volúmenes de información, análisis predictivo y cómputos científicos. Está orientado a simplificar el despliegue y administración de los paquetes de software. Las diferentes versiones de los paquetes se administran mediante el sistema de gestión de paquetes conda, el cual lo hace bastante sencillo de instalar, correr, y actualizar software de ciencia de datos y aprendizaje automático como Scikit-team, TensorFlow y SciPy. La distribución Anaconda es utilizada por 6 millones de usuarios e incluye más de 250 paquetes de ciencia de datos válidos para Windows, Linux y macOS.<br>\n",
        "Pagina Web [Anaconda](https://www.anaconda.com/)<br>\n",
        "![Anaconda Logo](https://upload.wikimedia.org/wikipedia/en/c/cd/Anaconda_Logo.png)\n",
        "<br>\n",
        "<br>\n",
        "\n",
        "\n",
        "\n",
        "Python IDE Gratis | Python IDE Para Mac | Python IDE Para Windows\n",
        "--- | --- | ---\n",
        "PyDev | Pydev | PyDev\n",
        "Visual Studio Code | Visual Studio Code | PyDev\n",
        "Spyder | Spyder | Spyder\n",
        "Thonny | Thonny | Thonny\n",
        "Anaconda | Anaconda | Anaconda\n",
        " | Pycharm* | Pycharm*\n",
        "\n",
        "\n",
        "<h1><strong>Procedimiento para instalación local se describe a continuación en el canal de YouTube de los cursos de pregrado y posgrado</strong></h1>\n",
        "\n",
        "[https://www.youtube.com/@MonitoriasAlDiSi](https://www.youtube.com/@MonitoriasAlDiSi)"
      ]
    },
    {
      "cell_type": "markdown",
      "metadata": {
        "id": "lK5GGBwG9Z4d"
      },
      "source": [
        "## <strong>Python en la Web</strong>\n"
      ]
    },
    {
      "cell_type": "markdown",
      "metadata": {
        "id": "HcI0Ex_y9vJv"
      },
      "source": [
        "Usar Python en la web, para este caso podemos usar un entorno colaborativo o un intérprete web, si se desea utilizar un intérprete web, la mejor opción es Repl.it y si por el contrario se prefiere un entorno colaborativo y dinámico, la mejor opción es Google Colab. A continuación, se describen ambos.\n",
        "\n",
        "<strong>replit</strong>: un IDE en línea (entorno de desarrollo integrado). Su nombre proviene del acrónimo REPL, que significa \"read–evaluate–print loop\" (\"bucle de lectura-evaluación-impresión\"). El servicio fue creado por el programador Jordano Amjad Masad y la diseñadora jordana Haya Odeh en 2016. Replit permite a los usuarios escribir código y crear aplicaciones y sitios web utilizando un navegador. Además, Replit permite a los usuarios compartir proyectos de varias formas. También organizan \"jams\", concursos de codificación basados en un tema determinado. Los premios del concurso a menudo varían desde una actualización temporal de la cuenta, dinero, criptomonedas o una tarjeta de regalo. Los \"jams\" hechos por la comunidad también se alojan a veces en repl talk, con el mismo propósito. Un \"Repl\" en Replit es un entorno de programación interactivo. Puede crear un espacio de trabajo en los lenguajes de programación más populares, donde se le proporciona un contenedor en una máquina virtual donde se puede ejecutar su código. En cualquier Repl, hay dos partes principales: el editor y la consola.<br>\n",
        "\n",
        "Página Web [Replit](https://replit.com/site/about)<br>\n",
        "<div align=\"center\">\n",
        "<img alt=\"Thonny\" height=\"100px\" src=\"https://cdn.sanity.io/images/bj34pdbp/migration/3c2f2d404a571d2c9fbca934360352698d63433a-1920x900.png\" align=\"center\" hspace=\"0px\" vspace=\"0px\">\n",
        "</div><br>\n",
        "\n",
        "<strong>IPython IP[y]:</strong> IPython es un shell interactivo que añade funcionalidades extra al modo interactivo incluido con Python, como resaltado de líneas y errores mediante colores, una sintaxis adicional para el shell, autocompletado mediante tabulador de variables, módulos y atributos; entre otras funcionalidades. Es un componente del paquete SciPy.<br>\n",
        "El Proyecto Jupyter es una organización sin ánimo de lucro creada para \"desarrollar software de código abierto, estándares abiertos y servicios para computación interactiva en docenas de lenguajes de programación\". Según el sitio web del Proyecto Jupyter, \"Jupyter siempre será un software 100% de código abierto, de uso gratuito para todos y lanzado bajo los términos liberales de la licencia BSD modificada\".\n",
        "Fernando Pérez es un físico, desarrollador de software y promotor del software libre y creador de IPython. [**Fernando Pérez**](https://es.wikipedia.org/wiki/Fernando_P%C3%A9rez_(programador)) nació en Medellín, Colombia y realizó su pregrado en Física en la Universidad de Antioquia (1994) y su maestría en Física en la misma universidad Colombiana (1996). Posteriormente, obtuvo el título de doctorado en física de partículas de la Universidad de Colorado en Boulder (2002).<br>\n",
        "\n",
        "Página Web [IP[y]:](https://ipython.org/)<br>\n",
        "<div align=\"center\">\n",
        "<img alt=\"ipython\" height=\"100px\" src=\"https://ipython.org/_static/IPy_header.png\" align=\"center\" hspace=\"0px\" vspace=\"0px\">\n",
        "</div><br>\n",
        "\n",
        "<strong>Google Colaboratory (Google Colab)</strong>: Colaboratory (también conocido como Colab) es un entorno de notebook Jupyter gratuito que se ejecuta en la nube y almacena sus notebooks en Google Drive. Colab fue originalmente un proyecto interno de Google. Se intentó abrir todo el código como fuente abierta y trabajar más directamente en sentido ascendente, lo que llevó al desarrollo de la extensión de Google Chrome \"Open in Colab\", pero esto finalmente terminó y el desarrollo de Colab continuó internamente. A partir de octubre de 2019, la UI (User interface, interfaz de usuario) de Colaboratory solo le permite crear cuadernos con kernels de Python 2 y Python 3; sin embargo, si tiene un portátil cuya especificación de kernel sea IR o Swift, funcionará, ya que tanto R como Swift están instalados en el contenedor. El lenguaje Julia también puede funcionar en Colab (por ejemplo, con Python y GPU; las unidades de procesamiento de tensor de Google también funcionan con Julia en Colab).<br>\n",
        "\n",
        "Página Web [Google Colab](https://colab.research.google.com/)<br>\n",
        "<div align=\"center\">\n",
        "<img alt=\"Colab\" height=\"200px\" src=\"https://colab.research.google.com/img/colab_favicon_256px.png\" align=\"center\" hspace=\"0px\" vspace=\"0px\">\n",
        "</div><br>\n"
      ]
    },
    {
      "cell_type": "markdown",
      "metadata": {
        "id": "11c4fObcpJog"
      },
      "source": [
        "# **Google Colab con Python - Un entorno relacionado de Ipython y Jupyter Notebooks**\n",
        "\n",
        "Una interfaz notebook (también llamada 'cuaderno computacional' ) es un entorno virtual de cuaderno utilizado para la programación literaria.​ Combina la funcionalidad del software procesamiento de textos con ambos shell y kernel del lenguaje de programación de esa computadora portátil. Millones de personas usan interfaces de notebooks​ para analizar datos de ciencia, periodismo y educación. [Wikipedia]<br>\n"
      ]
    },
    {
      "cell_type": "markdown",
      "metadata": {
        "id": "GZC3xjCxqI03"
      },
      "source": [
        "## <strong>Atajos para Google Colab:</strong>\n",
        "\n",
        "* Paleta de comandos: \"Ctrl+m+h\"\n",
        "* Celda de código abajo \"Ctrl+m+a\"\n",
        "* Celda de código arriba: \"Ctrl+m+b\"\n",
        "* Borrar celdas: \"Ctrl+m+d\"\n",
        "* Comentar: \"Crtl+/\"\n",
        "\n",
        "El símbolo **#** antes de una línea en las celdas de comandos indica que esa línea es un comentario y no debe interpretarse ni ejecutarse."
      ]
    },
    {
      "cell_type": "markdown",
      "metadata": {
        "id": "RWbLkLAS0lRn"
      },
      "source": [
        "\n",
        "## <strong>Texto Enriquecido (Markdown)</strong>\n",
        "\n",
        "1. Los títulos se establecen con el símbolo `#`.\n",
        "2. Título de primer orden `#`, título de segundo orden `##`, título de tercer orden `###`.\n",
        "3. Las viñetas se establecen con el símbolo `*`.\n",
        "4. Las listas se establecen con números `1.`\n",
        "5. Para un formato código se usa la tilde grave `funcion()` (`)\n",
        "6. Si quiero escribir un texto en negrilla, debo encerrar dicho texto entre doble asteriscos (**Negrita**)\n",
        "7. Si quiero escribir un texto en cursiva, debo encerrar dicho texto ente arteriscos (*Cursiva*)\n",
        "8. La tripleta de tildes graves encierran códigos. Si se coloca el nombre en minúsculas del lenguaje se colorea.\n",
        ">```\n",
        "a = int()\n",
        "```\n",
        ">```python\n",
        "a = int()\n",
        "```\n",
        ">```r\n",
        "a <- function(x){\n",
        "  return(x)\n",
        "}\n",
        "```\n",
        "9. Los vínculos se relacionan con corchetes para el texto y entre paréntesis el vínculo relacionado `[texto del vínculo](https://)`\n",
        "10. Las imagénes son similares a los vínculos, se debe agregar un signo de admiracion `!` previo a los corchetes `![Imagen Texto](https://)`\n",
        "11. Las sangrías se relacionan con con el tag `>`\n",
        "12. Agregar una regla horizontal se realiza con triple guión `---`\n",
        "\n",
        "Puedes acceder a la web oficial de Markdown en el siguiente enlace: https://www.markdownguide.org/getting-started/\n",
        "\n",
        "Puedes seguir el paso a paso del Markdown tutorial en el siguiente enlace : https://www.markdowntutorial.com/es/"
      ]
    },
    {
      "cell_type": "markdown",
      "metadata": {
        "id": "79bGhZOuysFE"
      },
      "source": [
        "## <strong>Ayudas</strong>\n",
        "\n",
        "El símbolo **?** antepuesto a un comando muestra en una ventana lateral el contexto de ayuda de dicho comando."
      ]
    },
    {
      "cell_type": "code",
      "execution_count": null,
      "metadata": {
        "id": "IIkS5W5Qy4lP"
      },
      "outputs": [],
      "source": [
        "? print"
      ]
    },
    {
      "cell_type": "markdown",
      "source": [
        "# **Final del Contenido Sesión 1**\n",
        "## **Gracias por participar, nos vemos en la sesión 2 la cual será exclusiva de variables y tipos de datos**"
      ],
      "metadata": {
        "id": "sPkOd94w0DXC"
      }
    }
  ]
}